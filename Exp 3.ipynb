{
 "cells": [
  {
   "cell_type": "code",
   "execution_count": 1,
   "id": "be1fb180",
   "metadata": {},
   "outputs": [],
   "source": [
    "import cv2\n",
    "import numpy as np"
   ]
  },
  {
   "cell_type": "code",
   "execution_count": 5,
   "id": "3d2c5de2",
   "metadata": {},
   "outputs": [
    {
     "data": {
      "text/plain": [
       "(486, 698, 3)"
      ]
     },
     "execution_count": 5,
     "metadata": {},
     "output_type": "execute_result"
    }
   ],
   "source": [
    "image=cv2.imread(\"original.PNG\",1)\n",
    "image.shape"
   ]
  },
  {
   "cell_type": "code",
   "execution_count": 6,
   "id": "7a5636db",
   "metadata": {},
   "outputs": [],
   "source": [
    "img= cv2.resize(image, (465,324))\n",
    "cv2.imshow(\"original\",img)\n",
    "\n",
    "hsv_bgr=cv2.cvtColor(img,cv2.COLOR_BGR2HSV)\n",
    "cv2.imshow(\"BGR to HSV\",hsv_bgr)\n",
    "\n",
    "hsv_rgb= cv2.cvtColor(img,cv2.COLOR_RGB2HSV)\n",
    "cv2.imshow('RGB to HSV',hsv_rgb)\n",
    "\n",
    "gray_bgr= cv2.cvtColor(img,cv2.COLOR_BGR2GRAY)\n",
    "cv2.imshow('BGR2GRAY',gray_bgr)\n",
    "\n",
    "gray_rgb= cv2.cvtColor(img,cv2.COLOR_RGB2GRAY)\n",
    "cv2.imshow('RGB2GRAY',gray_rgb)\n",
    "\n",
    "cv2.waitKey(0)\n",
    "cv2.destroyAllWindows()"
   ]
  },
  {
   "cell_type": "code",
   "execution_count": 7,
   "id": "15421b05",
   "metadata": {},
   "outputs": [],
   "source": [
    "image2 = cv2.imread(\"original2.PNG\")\n",
    "img2= cv2.resize(image2, (465,324))\n",
    "\n",
    "hsv = cv2.cvtColor(img2, cv2.COLOR_BGR2HSV)\n",
    "cv2.imshow(\"hsv_image\", hsv)\n",
    "\n",
    "hsv_rgb = cv2.cvtColor(hsv, cv2.COLOR_HSV2RGB)\n",
    "cv2.imshow(\"hsv to rgb\", hsv_rgb)\n",
    "\n",
    "hsv_bgr = cv2.cvtColor(hsv, cv2.COLOR_HSV2BGR)\n",
    "cv2.imshow(\"hsv to bgr\", hsv_bgr)\n",
    "\n",
    "cv2.waitKey(0)\n",
    "cv2.destroyAllWindows()"
   ]
  },
  {
   "cell_type": "code",
   "execution_count": 10,
   "id": "fc5b7e08",
   "metadata": {},
   "outputs": [
    {
     "data": {
      "text/plain": [
       "(454, 697, 3)"
      ]
     },
     "execution_count": 10,
     "metadata": {},
     "output_type": "execute_result"
    }
   ],
   "source": [
    "image3 = cv2.imread(\"original4.PNG\")\n",
    "image3.shape"
   ]
  },
  {
   "cell_type": "code",
   "execution_count": 11,
   "id": "89654cbd",
   "metadata": {},
   "outputs": [],
   "source": [
    "img3= cv2.resize(image3, (470,324))\n",
    "\n",
    "cv2.imshow(\"original(bgr)\", img3)\n",
    "img_ycrcb = cv2.cvtColor(img3 , cv2.COLOR_BGR2YCrCb)\n",
    "cv2.imshow(\"bgr to YCrCb \", img_ycrcb)\n",
    "\n",
    "img_rgb = cv2.cvtColor(img3, cv2.COLOR_BGR2RGB)\n",
    "cv2.imshow(\"rgb\", img_rgb)\n",
    "img_bgr_y = cv2.cvtColor(img_rgb, cv2.COLOR_BGR2YCrCb)\n",
    "cv2.imshow(\"rgb to YCrCb\", img_bgr_y)\n",
    "cv2.waitKey(0)\n",
    "cv2.destroyAllWindows()"
   ]
  },
  {
   "cell_type": "code",
   "execution_count": 13,
   "id": "5e7f3396",
   "metadata": {},
   "outputs": [
    {
     "data": {
      "text/plain": [
       "(392, 697, 3)"
      ]
     },
     "execution_count": 13,
     "metadata": {},
     "output_type": "execute_result"
    }
   ],
   "source": [
    "image4 = cv2.imread(\"original3.PNG\")\n",
    "image4.shape"
   ]
  },
  {
   "cell_type": "code",
   "execution_count": 14,
   "id": "829b8eb4",
   "metadata": {},
   "outputs": [],
   "source": [
    "img4= cv2.resize(image4, (470,324))\n",
    "cv2\n",
    "b,g,r = cv2.split(img4)\n",
    "cv2.imshow(\"red model\", r)\n",
    "cv2.imshow(\"green model\", g)\n",
    "cv2.imshow(\"blue model \", b)\n",
    "merger = cv2.merge([b,g,r])\n",
    "cv2.imshow(\"merged\", merger )\n",
    "cv2.waitKey(0)\n",
    "cv2.destroyAllWindows()"
   ]
  },
  {
   "cell_type": "code",
   "execution_count": 15,
   "id": "e9965f60",
   "metadata": {},
   "outputs": [
    {
     "data": {
      "text/plain": [
       "(440, 698, 3)"
      ]
     },
     "execution_count": 15,
     "metadata": {},
     "output_type": "execute_result"
    }
   ],
   "source": [
    "image5 = cv2.imread(\"original5.PNG\")\n",
    "image5.shape"
   ]
  },
  {
   "cell_type": "code",
   "execution_count": 16,
   "id": "83b2083e",
   "metadata": {},
   "outputs": [],
   "source": [
    "img5= cv2.resize(image5, (470,294))\n",
    "hsv = cv2.cvtColor(img5 , cv2.COLOR_BGR2HSV)\n",
    "cv2.imshow(\"initial hsv \", hsv)\n",
    "h,s,v = cv2.split(hsv)\n",
    "cv2.imshow(\"hue model\", h)\n",
    "cv2.imshow(\"saturation model\", s)\n",
    "cv2.imshow(\"value model \", v)\n",
    "merger = cv2.merge([h,s,v])\n",
    "cv2.imshow(\"merged image\", merger )\n",
    "cv2.waitKey(0)\n",
    "cv2.destroyAllWindows()"
   ]
  },
  {
   "cell_type": "code",
   "execution_count": null,
   "id": "c99eb5bf",
   "metadata": {},
   "outputs": [],
   "source": []
  }
 ],
 "metadata": {
  "kernelspec": {
   "display_name": "Python 3 (ipykernel)",
   "language": "python",
   "name": "python3"
  },
  "language_info": {
   "codemirror_mode": {
    "name": "ipython",
    "version": 3
   },
   "file_extension": ".py",
   "mimetype": "text/x-python",
   "name": "python",
   "nbconvert_exporter": "python",
   "pygments_lexer": "ipython3",
   "version": "3.9.13"
  }
 },
 "nbformat": 4,
 "nbformat_minor": 5
}
